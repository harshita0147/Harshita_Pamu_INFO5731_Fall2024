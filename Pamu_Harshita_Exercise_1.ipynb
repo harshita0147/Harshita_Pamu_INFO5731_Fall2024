{
  "cells": [
    {
      "cell_type": "markdown",
      "metadata": {
        "id": "view-in-github",
        "colab_type": "text"
      },
      "source": [
        "<a href=\"https://colab.research.google.com/github/harshita0147/Harshita_Pamu_INFO5731_Fall2024/blob/main/Pamu_Harshita_Exercise_1.ipynb\" target=\"_parent\"><img src=\"https://colab.research.google.com/assets/colab-badge.svg\" alt=\"Open In Colab\"/></a>"
      ]
    },
    {
      "cell_type": "markdown",
      "metadata": {
        "id": "DymRJbxDBCnf"
      },
      "source": [
        "# **INFO5731 Exercise 1**\n",
        "\n",
        "This exercise covers a variety of fundamental concepts in Python and is designed to help students improve their coding skills and problem-solving abilities.\n",
        "\n",
        "**Expectations**:\n",
        "*   Students are expected to complete the exercise during lecture period to meet the active participation criteria of the course.\n",
        "*   Use the provided .*ipynb* document to write your code & respond to the questions. Avoid generating a new file.\n",
        "*   Write complete answers and run all the cells before submission.\n",
        "*   Make sure the submission is \"clean\"; *i.e.*, no unnecessary code cells.\n",
        "*   Once finished, allow shared rights from top right corner (*see Canvas for details*).\n",
        "\n",
        "**Total points**: 40\n",
        "\n",
        "**Deadline**: This in-class exercise is due at the end of the day tomorrow, at 11:59 PM.\n",
        "\n",
        "**Late submissions cannot be considered, and no requests will be answered. Manage your time accordingly.**\n"
      ]
    },
    {
      "cell_type": "code",
      "source": [],
      "metadata": {
        "id": "tyAo4bsDME_N"
      },
      "execution_count": null,
      "outputs": []
    },
    {
      "cell_type": "markdown",
      "source": [
        "## Question 1\n",
        "Write a Python program that  prompts the user to input the length and width of a rectangle, and then calculates and displays the area of the rectangle."
      ],
      "metadata": {
        "id": "FBKvD6O_TY6e"
      }
    },
    {
      "cell_type": "code",
      "source": [
        "l = float(input(\"Enter the length of given rectangle: \"))\n",
        "w = float(input(\"Enter the width of given rectangle: \"))\n",
        "a = l * w\n",
        "print(f\"The area of the rectangle is: {a}\")\n"
      ],
      "metadata": {
        "id": "cikVKDXdTbzE",
        "colab": {
          "base_uri": "https://localhost:8080/"
        },
        "outputId": "8302e934-43a7-449f-8833-dbdca6fd8ac1"
      },
      "execution_count": null,
      "outputs": [
        {
          "output_type": "stream",
          "name": "stdout",
          "text": [
            "Enter the length of given rectangle: 8\n",
            "Enter the width of given rectangle: 9\n",
            "The area of the rectangle is: 72.0\n"
          ]
        }
      ]
    },
    {
      "cell_type": "markdown",
      "source": [
        "## Question 2\n",
        "Create a Python program that interactively takes two numerical inputs from the user and swaps their values without utilizing an extra variable."
      ],
      "metadata": {
        "id": "E9RqrlwdTfvl"
      }
    },
    {
      "cell_type": "code",
      "source": [
        "a = float(input(\"Enter the number 1: \"))\n",
        "b = float(input(\"Enter the number 2 : \"))\n",
        "a, b = b, a\n",
        "print(f\"After swapping: number 1 = {a}, number 2 = {b}\")\n"
      ],
      "metadata": {
        "id": "4XvRknixTh1g",
        "colab": {
          "base_uri": "https://localhost:8080/"
        },
        "outputId": "cbedc2d8-382b-4dee-ae1c-250fb942c302"
      },
      "execution_count": null,
      "outputs": [
        {
          "output_type": "stream",
          "name": "stdout",
          "text": [
            "Enter the number 1: 7\n",
            "Enter the number 2 : 8\n",
            "After swapping: number 1 = 8.0, number 2 = 7.0\n"
          ]
        }
      ]
    },
    {
      "cell_type": "markdown",
      "metadata": {
        "id": "03jb4GZsBkBS"
      },
      "source": [
        "## Question 3\n",
        "Write a Python script to determine and print the length of a user-input string."
      ]
    },
    {
      "cell_type": "code",
      "execution_count": null,
      "metadata": {
        "id": "YaGLbSHHB8Ej",
        "colab": {
          "base_uri": "https://localhost:8080/"
        },
        "outputId": "dec46010-8f56-491f-be0f-6052494fbde2"
      },
      "outputs": [
        {
          "output_type": "stream",
          "name": "stdout",
          "text": [
            "Enter a string: hello\n",
            "The length of the string is: 5\n"
          ]
        }
      ],
      "source": [
        "input_string = input(\"Enter a string: \")\n",
        "print(f\"The length of the string is: {len(input_string)}\")\n"
      ]
    },
    {
      "cell_type": "markdown",
      "metadata": {
        "id": "jJDe71iLB616"
      },
      "source": [
        "## Question 4\n",
        "Construct a Python program that counts and displays the occurrences of each character in a given string.\n",
        "\n",
        "Sample String: 'openai.ai',\n",
        "\n",
        "Expected Result: {'a': 2, 'i': 2, '.': 1, 'o': 1, 'p': 1, 'e': 1, 'n': 1}"
      ]
    },
    {
      "cell_type": "code",
      "execution_count": null,
      "metadata": {
        "id": "MtKskTzbCLaU",
        "colab": {
          "base_uri": "https://localhost:8080/"
        },
        "outputId": "88daac6e-548f-4e09-f629-e57c070269e0"
      },
      "outputs": [
        {
          "output_type": "stream",
          "name": "stdout",
          "text": [
            "{'o': 1, 'p': 1, 'e': 1, 'n': 1, 'a': 2, 'i': 2, '.': 1}\n"
          ]
        }
      ],
      "source": [
        "sample_string = 'openai.ai'\n",
        "count = {}\n",
        "for char in sample_string:\n",
        "    count[char] = count.get(char, 0) + 1\n",
        "print(count)\n",
        "\n"
      ]
    },
    {
      "cell_type": "markdown",
      "metadata": {
        "id": "55W9AMdXCSpV"
      },
      "source": [
        "## Question 5\n",
        "Design a Python code to calculate the sum of all elements in a user-provided list."
      ]
    },
    {
      "cell_type": "code",
      "execution_count": null,
      "metadata": {
        "id": "I57NXsauCec2",
        "colab": {
          "base_uri": "https://localhost:8080/"
        },
        "outputId": "2180e304-c3b5-4a91-be78-f077a924b9ec"
      },
      "outputs": [
        {
          "output_type": "stream",
          "name": "stdout",
          "text": [
            "Enter numbers separated by spaces: 5 6 6 3 3 \n",
            "The sum of the numbers is: 23.0\n"
          ]
        }
      ],
      "source": [
        "input_numbers = input(\"Enter numbers separated by spaces: \")\n",
        "number_list = [float(value) for value in input_numbers.split()]\n",
        "sum_result = sum(number_list)\n",
        "print(f\"The sum of the numbers is: {sum_result}\")\n",
        "\n"
      ]
    },
    {
      "cell_type": "markdown",
      "metadata": {
        "id": "4ulBZ6yhCi9F"
      },
      "source": [
        "## Question 6\n",
        "Write a Python program that modifies a given string by replacing all occurrences of its first character with '$', excluding the first character itself.\n",
        "\n",
        "\n",
        "Sample String : 'restart‘\n",
        "Expected Result : 'resta\\$t'"
      ]
    },
    {
      "cell_type": "code",
      "execution_count": null,
      "metadata": {
        "id": "Fj0XhwbBCw2o",
        "colab": {
          "base_uri": "https://localhost:8080/"
        },
        "outputId": "9d10e61a-6d9a-40bf-d0f9-920ab127e50f"
      },
      "outputs": [
        {
          "output_type": "stream",
          "name": "stdout",
          "text": [
            "resta$t\n"
          ]
        }
      ],
      "source": [
        "sample_string = 'restart'\n",
        "if len(sample_string) > 1:\n",
        "    new_string = sample_string[0] + sample_string[1:].replace(sample_string[0], '$')\n",
        "else:\n",
        "    new_string = sample_string\n",
        "\n",
        "print(new_string)\n"
      ]
    },
    {
      "cell_type": "markdown",
      "source": [
        "## Question 7\n",
        "Write a Python program using a while loop to compute the factorial of a user-supplied number."
      ],
      "metadata": {
        "id": "qVXA3q7ET5JI"
      }
    },
    {
      "cell_type": "code",
      "source": [
        "def factorial(n):\n",
        "    if n == 0:\n",
        "        return 1\n",
        "    else:\n",
        "      result = 1\n",
        "      while n > 0:\n",
        "        result *= n\n",
        "        n -= 1\n",
        "      return result\n",
        "\n",
        "number = int(input(\"Enter a number:\"))\n",
        "factorial_result = factorial(number)\n",
        "print(\"The factorial of\", number , \"is\" , factorial_result)\n",
        "\n",
        "\n"
      ],
      "metadata": {
        "id": "Lbt7R6UkT7BA",
        "colab": {
          "base_uri": "https://localhost:8080/"
        },
        "outputId": "9a781db0-899b-473a-a67c-8ce77f10b4e3"
      },
      "execution_count": null,
      "outputs": [
        {
          "output_type": "stream",
          "name": "stdout",
          "text": [
            "Enter a number:3\n",
            "The factorial of 3 is 6\n"
          ]
        }
      ]
    },
    {
      "cell_type": "markdown",
      "source": [
        "## Question 8\n",
        "Create a program that accepts a list of numbers as input and outputs a new list containing only the even numbers."
      ],
      "metadata": {
        "id": "6YfbzXMNT--R"
      }
    },
    {
      "cell_type": "code",
      "source": [
        "def get_even_number(numbers):\n",
        "  even_numbers = []\n",
        "  for num in numbers:\n",
        "    if num % 2 == 0:\n",
        "      even_numbers.append(num)\n",
        "      return even_numbers\n",
        "\n",
        "user_input = input(\"enter a list of number separated by spaces: \")\n",
        "numbers = list(map(int, user_input.split()))\n",
        "even_numbers = get_even_numbers(numbers)\n",
        "print(\"even numbers:\", even_numbers)"
      ],
      "metadata": {
        "id": "54q7wMQPUAKu",
        "colab": {
          "base_uri": "https://localhost:8080/"
        },
        "outputId": "075dba52-3b1d-4501-922f-2e368cd2ecb6"
      },
      "execution_count": null,
      "outputs": [
        {
          "output_type": "stream",
          "name": "stdout",
          "text": [
            "enter a list of number separated by spaces: 2 3 4\n",
            "even numbers: [2, 4]\n"
          ]
        }
      ]
    },
    {
      "cell_type": "markdown",
      "metadata": {
        "id": "_bIP7s1MCzue"
      },
      "source": [
        "## Question 9\n",
        "Design a Python function to check if a number is prime.\n"
      ]
    },
    {
      "cell_type": "code",
      "execution_count": null,
      "metadata": {
        "id": "w79QilHXD3Mg",
        "colab": {
          "base_uri": "https://localhost:8080/"
        },
        "outputId": "10d14877-2fb1-44ba-80e2-7135184ee73e"
      },
      "outputs": [
        {
          "output_type": "stream",
          "name": "stdout",
          "text": [
            "Enter a number:5\n",
            "5 is a prime number.\n"
          ]
        }
      ],
      "source": [
        "def is_prime(n):\n",
        "  if n <= 1:\n",
        "    return False\n",
        "  for i in range(2, int(n**0.5)+ 1):\n",
        "    if n % i == 0:\n",
        "      return False\n",
        "  return True\n",
        "\n",
        "num = int(input(\"Enter a number:\"))\n",
        "if is_prime(num):\n",
        "  print(f\"{num} is a prime number.\")\n",
        "else:\n",
        "  print(f\"{num} is not a prime number.\")\n"
      ]
    },
    {
      "cell_type": "markdown",
      "metadata": {
        "id": "xCa2bK9aD4Q3"
      },
      "source": [
        "## Question 10\n",
        "Write a Python program to concatenate following dictionaries to create a new one.\n",
        "\n",
        "Sample Dictionary : dic1={1:10, 2:20}, dic2={3:30, 4:40}, dic3={5:50,6:60},\n",
        "\n",
        "Expected Result : {1: 10, 2: 20, 3: 30, 4: 40, 5: 50, 6: 60}\n"
      ]
    },
    {
      "cell_type": "code",
      "execution_count": null,
      "metadata": {
        "id": "_z4aLqAbEET1",
        "colab": {
          "base_uri": "https://localhost:8080/"
        },
        "outputId": "758aecaa-03d7-4240-a322-152b2e50c918"
      },
      "outputs": [
        {
          "output_type": "stream",
          "name": "stdout",
          "text": [
            "Concatenated Dictionary: {1: 10, 2: 20, 3: 30, 4: 40, 5: 50, 6: 60}\n"
          ]
        }
      ],
      "source": [
        "\n",
        "dic1 = {1: 10, 2: 20}\n",
        "dic2 = {3: 30, 4: 40}\n",
        "dic3 = {5: 50, 6: 60}\n",
        "\n",
        "result ={}\n",
        "\n",
        "result.update(dic1)\n",
        "result.update(dic2)\n",
        "result.update(dic3)\n",
        "\n",
        "print(\"Concatenated Dictionary:\", result)\n"
      ]
    },
    {
      "cell_type": "markdown",
      "source": [
        "## Question 11\n",
        "Design a Python function that takes a tuple of integers as input and returns the largest and smallest elements."
      ],
      "metadata": {
        "id": "bkyZ2xSZUOst"
      }
    },
    {
      "cell_type": "code",
      "source": [
        "def find_largest_smallest(numbers):\n",
        "  if len(numbers) == 0:\n",
        "     return None, None\n",
        "  largest = max(numbers)\n",
        "  smallest = min(numbers)\n",
        "  return largest, smallest\n",
        "\n",
        "user_input = input(\"Enter a list of intergers separated by spaces: \")\n",
        "numbers_tuple = tuple(map(int, user_input.split()))\n",
        "largest, smallest = find_largest_smallest(numbers_tuple)\n",
        "print(f\"Largest element: {largest}, Smallest element: {smallest}\")"
      ],
      "metadata": {
        "id": "3FdLRBKOUQEd",
        "colab": {
          "base_uri": "https://localhost:8080/"
        },
        "outputId": "b7f25c12-788b-4a3a-b3ff-7d5eaa92d8ae"
      },
      "execution_count": null,
      "outputs": [
        {
          "output_type": "stream",
          "name": "stdout",
          "text": [
            "Enter a list of intergers separated by spaces: 3 5 3 8 6 4 3 23 -328\n",
            "Largest element: 23, Smallest element: -328\n"
          ]
        }
      ]
    },
    {
      "cell_type": "markdown",
      "source": [
        "## Question 12\n",
        "Write a Python program that counts the frequency of each character in a given string and stores it in a dictionary."
      ],
      "metadata": {
        "id": "O0TVi3gKUTpp"
      }
    },
    {
      "cell_type": "code",
      "source": [
        "def count_character_frequency(input_string):\n",
        "  frequency_dict = {}\n",
        "\n",
        "  for char in input_string:\n",
        "    if char in frequency_dict:\n",
        "     frequency_dict[char] += 1\n",
        "    else:\n",
        "      frequency_dict[char] = 1\n",
        "  return frequency_dict\n",
        "\n",
        "user_input = input(\"Enter a string: \")\n",
        "frequency_result = count_character_frequency(user_input)\n",
        "print(\"character Frequency:\", frequency_result)"
      ],
      "metadata": {
        "id": "lAtfSfZXUU-h",
        "colab": {
          "base_uri": "https://localhost:8080/"
        },
        "outputId": "2355151c-7bda-499a-ae78-54051f976c65"
      },
      "execution_count": null,
      "outputs": [
        {
          "output_type": "stream",
          "name": "stdout",
          "text": [
            "Enter a string: hello world\n",
            "character Frequency: {'h': 1, 'e': 1, 'l': 3, 'o': 2, ' ': 1, 'w': 1, 'r': 1, 'd': 1}\n"
          ]
        }
      ]
    },
    {
      "cell_type": "markdown",
      "metadata": {
        "id": "0v48Vqa7FrQh"
      },
      "source": [
        "## Question 13\n",
        "Implement a Python script to identify duplicate elements in a provided array of integers. Return -1 if there are no duplicates."
      ]
    },
    {
      "cell_type": "code",
      "execution_count": null,
      "metadata": {
        "id": "7WEmgq-DF2P1",
        "colab": {
          "base_uri": "https://localhost:8080/"
        },
        "outputId": "393d3805-dfb0-4e3e-c877-3b8a752f347e"
      },
      "outputs": [
        {
          "output_type": "stream",
          "name": "stdout",
          "text": [
            "Enter a list of intergers seperated by spaces:5 84 6 85 85 99 \n",
            "Duplicate element: [85]\n"
          ]
        }
      ],
      "source": [
        "def find_duplicates(arr):\n",
        "  seen = set()\n",
        "  duplicates = set()\n",
        "\n",
        "  for num in arr:\n",
        "    if num in seen:\n",
        "      duplicates.add(num)\n",
        "    else:\n",
        "      seen.add(num)\n",
        "\n",
        "  if duplicates:\n",
        "    return list(duplicates)\n",
        "  else:\n",
        "    return -1\n",
        "\n",
        "user_input = input(\"Enter a list of intergers seperated by spaces:\")\n",
        "arr = list(map(int, user_input.split()))\n",
        "\n",
        "result = find_duplicates(arr)\n",
        "\n",
        "if result == -1:\n",
        "  print(\"No duplicates found.\")\n",
        "else:\n",
        "  print(\"Duplicate element:\",result)\n",
        "\n",
        "\n"
      ]
    },
    {
      "cell_type": "markdown",
      "metadata": {
        "id": "vD5PYLMuGga_"
      },
      "source": [
        "## Question 14\n",
        "Write a Python script to find the common elements between two lists."
      ]
    },
    {
      "cell_type": "code",
      "execution_count": null,
      "metadata": {
        "id": "t0D5kdJUGjjw",
        "colab": {
          "base_uri": "https://localhost:8080/"
        },
        "outputId": "52a15b2e-a21a-400f-c169-27a15f741dd3"
      },
      "outputs": [
        {
          "output_type": "stream",
          "name": "stdout",
          "text": [
            "Enter the first list of integers seperated by spaces: 3 5 7 8 \n",
            "Enter the second list of integers seperated by spaces:  2 5 2 8 \n",
            "common element: [8, 5]\n"
          ]
        }
      ],
      "source": [
        "def find_common_element(list1,list2):\n",
        "  common_elements = set(list1) & set(list2)\n",
        "\n",
        "  return list(common_elements)\n",
        "\n",
        "user_input1 = input(\"Enter the first list of integers seperated by spaces: \")\n",
        "user_input2 = input(\"Enter the second list of integers seperated by spaces: \")\n",
        "\n",
        "list1 = list(map(int, user_input1.split()))\n",
        "list2 = list(map(int, user_input2.split()))\n",
        "\n",
        "result = find_common_element(list1,list2)\n",
        "\n",
        "if result:\n",
        "  print(\"common element:\", result)\n",
        "else:\n",
        "  print(\"No common element founf.\")\n"
      ]
    },
    {
      "cell_type": "markdown",
      "metadata": {
        "id": "uHkd-y5VhVWC"
      },
      "source": [
        "## Question 15\n",
        "Write a Python program to randomly divide the students in this class into maximum of eight groups for term projects, each group should have at least 4 students but no more than 6 students (including 6).\n",
        "\n",
        "Here is the students list:\n",
        "\n",
        "student_list_spring_2024=[rb0846,\n",
        "ac1964,\n",
        "hc0612,\n",
        "md0912,\n",
        "ad1198,\n",
        "md0894,\n",
        "md0825,\n",
        "vg0598,\n",
        "vg0433,\n",
        "mh1068,\n",
        "yj0173,\n",
        "pk0553,\n",
        "tk0411,\n",
        "srk0204,\n",
        "sk2922,\n",
        "sk2936,\n",
        "mk1302,\n",
        "mk1317,\n",
        "tk0412,\n",
        "vk0656,\n",
        "sm2985,\n",
        "mm2372,\n",
        "un0045,\n",
        "an0892,\n",
        "sn0913,\n",
        "gp0252,\n",
        "ap1484,\n",
        "mr1765,\n",
        "sr1385,\n",
        "sr1335,\n",
        "hs0665,\n",
        "ms2060,\n",
        "gt0217,\n",
        "nt0385,\n",
        "tv0186,\n",
        "sv1394,\n",
        "sv1752,\n",
        "sv1555,\n",
        "sy0594\n",
        "]\n"
      ]
    },
    {
      "cell_type": "code",
      "execution_count": null,
      "metadata": {
        "id": "3iGbmcOBhTwy",
        "colab": {
          "base_uri": "https://localhost:8080/"
        },
        "outputId": "23c4d00e-b9da-444d-aa82-7543e00f9436"
      },
      "outputs": [
        {
          "output_type": "stream",
          "name": "stdout",
          "text": [
            "Group 1: ['sv1394', 'mk1302', 'nt0385', 'mk1317', 'hc0612']\n",
            "Group 2: ['yj0173', 'sv1555', 'sk2936', 'ap1484', 'md0912']\n",
            "Group 3: ['sr1385', 'ms2060', 'sm2985', 'pk0553', 'un0045']\n",
            "Group 4: ['vg0598', 'sn0913', 'gp0252', 'ad1198', 'srk0204']\n",
            "Group 5: ['vk0656', 'sk2922', 'ac1964', 'mm2372', 'tv0186']\n",
            "Group 6: ['tk0411', 'an0892', 'tk0412', 'sr1335', 'md0825']\n",
            "Group 7: ['gt0217', 'mh1068', 'sy0594', 'vg0433', 'rb0846']\n",
            "Group 8: ['md0894', 'mr1765', 'hs0665', 'sv1752']\n"
          ]
        }
      ],
      "source": [
        "import random\n",
        "\n",
        "def divide_students(student_list):\n",
        "  random.shuffle(student_list)\n",
        "  groups = [[] for _ in range(8)]\n",
        "\n",
        "  for i, student in enumerate(student_list):\n",
        "    groups[i % 8].append(student)\n",
        "\n",
        "  for group in groups:\n",
        "    if len(group) < 4:\n",
        "      for donor_group in groups:\n",
        "        if len(donor_group) > 4:\n",
        "          group.append(donor_group.pop())\n",
        "          if len(group) == 4:\n",
        "            break\n",
        "  return groups\n",
        "\n",
        "student_list_spring_2024 = ['rb0846', 'ac1964', 'hc0612', 'md0912', 'ad1198', 'md0894', 'md0825', 'vg0598',\n",
        "                            'vg0433', 'mh1068', 'yj0173', 'pk0553', 'tk0411', 'srk0204', 'sk2922', 'sk2936',\n",
        "                            'mk1302', 'mk1317', 'tk0412', 'vk0656', 'sm2985', 'mm2372', 'un0045', 'an0892',\n",
        "                            'sn0913', 'gp0252', 'ap1484', 'mr1765', 'sr1385', 'sr1335', 'hs0665', 'ms2060',\n",
        "                            'gt0217', 'nt0385', 'tv0186', 'sv1394', 'sv1752', 'sv1555', 'sy0594']\n",
        "\n",
        "groups = divide_students(student_list_spring_2024)\n",
        "for i, group in enumerate(groups, 1):\n",
        "  print(f\"Group {i}: {group}\")\n",
        "\n"
      ]
    },
    {
      "cell_type": "markdown",
      "metadata": {
        "id": "fmZ9vX20Qs3d"
      },
      "source": [
        "## Question 16\n",
        "Create a program that takes a positive integer 'n' as input and prints the count of even numbers from 1 to 'n'. Optimize the loop using the continue statement."
      ]
    },
    {
      "cell_type": "code",
      "execution_count": null,
      "metadata": {
        "id": "W8Jw6sWMQs3d",
        "colab": {
          "base_uri": "https://localhost:8080/"
        },
        "outputId": "15c8fe68-1b6c-4321-8ce3-3da175a5a416"
      },
      "outputs": [
        {
          "output_type": "stream",
          "name": "stdout",
          "text": [
            "Enter a positive integer:7\n",
            "The count of even numbers from 1 to 7 is: 3\n"
          ]
        }
      ],
      "source": [
        "def count_even_numbers(n):\n",
        "  even_count = 0\n",
        "  for i in range(1, n + 1):\n",
        "    if i % 2 != 0:\n",
        "      continue\n",
        "    even_count += 1\n",
        "  return even_count\n",
        "\n",
        "n = int(input(\"Enter a positive integer:\"))\n",
        "even_count = count_even_numbers(n)\n",
        "print(f\"The count of even numbers from 1 to {n} is: {even_count}\")\n",
        "\n"
      ]
    },
    {
      "cell_type": "markdown",
      "metadata": {
        "id": "hvq4APMhQs3d"
      },
      "source": [
        "## Question 17\n",
        "Develop a Python function called 'count_vowels' that takes a string as input and returns the count of vowels (both lowercase and uppercase) present in the string, ignoring spaces and non-alphabetic characters."
      ]
    },
    {
      "cell_type": "code",
      "execution_count": null,
      "metadata": {
        "id": "ZnoxhSglQs3d",
        "colab": {
          "base_uri": "https://localhost:8080/"
        },
        "outputId": "42d9fc5e-e6e1-45a9-f6ac-6db27a801563"
      },
      "outputs": [
        {
          "output_type": "stream",
          "name": "stdout",
          "text": [
            "Enter a string:hello, world\n",
            "The number of the vowels in the string is: 3\n"
          ]
        }
      ],
      "source": [
        "def count_vowels(input_string):\n",
        "  vowels = \"aeiouAEIOU\"\n",
        "  count = 0\n",
        "\n",
        "  for char in input_string:\n",
        "    if char in vowels:\n",
        "      count += 1\n",
        "  return count\n",
        "\n",
        "user_input = input(\"Enter a string:\")\n",
        "vowel_count = count_vowels(user_input)\n",
        "print(f\"The number of the vowels in the string is: {vowel_count}\")\n",
        "\n",
        "\n"
      ]
    },
    {
      "cell_type": "markdown",
      "source": [
        "## Question 18\n",
        "Create a custom exception named ValueTooSmallError in Python. Write a program that takes user input for an age, and if the entered age is less than 18, raise the ValueTooSmallError with an appropriate error message."
      ],
      "metadata": {
        "id": "55FWoSJPVVM6"
      }
    },
    {
      "cell_type": "code",
      "source": [
        "class ValueTooSmallError(Exception):\n",
        "    pass\n",
        "def check_age(age):\n",
        "  if age < 18:\n",
        "    raise ValueTooSmallError(\"Age must be at least 18.\")\n",
        "\n",
        "try:\n",
        "  age = int(input(\"Enter your age: \"))\n",
        "  check_age(age)\n",
        "  print(\"age is valid.\")\n",
        "except ValueTooSmallError as e:\n",
        "  print(e)\n",
        "except ValueError:\n",
        "  print(\"Invalid input! Please enter a number.\")"
      ],
      "metadata": {
        "id": "hwtr1wZmVX5A",
        "colab": {
          "base_uri": "https://localhost:8080/"
        },
        "outputId": "c630fdac-e39f-46c2-caaa-60de07ae0d9a"
      },
      "execution_count": null,
      "outputs": [
        {
          "output_type": "stream",
          "name": "stdout",
          "text": [
            "Enter your age: 15\n",
            "Age must be at least 18.\n"
          ]
        }
      ]
    },
    {
      "cell_type": "markdown",
      "source": [
        "## Question 19\n",
        "Develop a script that reverses a given string without using built-in reverse functions."
      ],
      "metadata": {
        "id": "Q9ecagcaVazW"
      }
    },
    {
      "cell_type": "code",
      "source": [
        "def reverse_string(input_string):\n",
        "    reversed_string = \"\"\n",
        "    for char in input_string:\n",
        "        reversed_string = char + reversed_string\n",
        "    return reversed_string\n",
        "\n",
        "user_string = input(\"Enter a stringto reverse: \")\n",
        "\n",
        "reversed_result = reverse_string(user_string)\n",
        "print(\"Reversed string:\", reversed_result)\n",
        "\n"
      ],
      "metadata": {
        "id": "gycgckoAVZjR",
        "colab": {
          "base_uri": "https://localhost:8080/"
        },
        "outputId": "8d3d794d-fb5e-47a3-b557-6c579fa5fb10"
      },
      "execution_count": null,
      "outputs": [
        {
          "output_type": "stream",
          "name": "stdout",
          "text": [
            "Enter a stringto reverse: hello\n",
            "Reversed string: olleh\n"
          ]
        }
      ]
    },
    {
      "cell_type": "markdown",
      "source": [
        "## Question 20\n",
        "Implement a Python script to generate a random password of a specified length."
      ],
      "metadata": {
        "id": "ZFG6RibifMLu"
      }
    },
    {
      "cell_type": "code",
      "source": [
        "import random\n",
        "import string\n",
        "\n",
        "def generate_password(length):\n",
        "\n",
        "    characters = string.ascii_letters + string.digits + string.punctuation\n",
        "\n",
        "    password = ''.join(random.choice(characters) for _ in range(length))\n",
        "\n",
        "    return password\n",
        "\n",
        "length = int(input(\"Enter the desired length of the password: \"))\n",
        "\n",
        "generated_password = generate_password(length)\n",
        "print(\"Generated Password:\", generated_password)\n"
      ],
      "metadata": {
        "id": "BFVrkEi9fNiD",
        "colab": {
          "base_uri": "https://localhost:8080/"
        },
        "outputId": "18be1d66-29bc-4fed-9d21-d2cfddee4c5c"
      },
      "execution_count": null,
      "outputs": [
        {
          "output_type": "stream",
          "name": "stdout",
          "text": [
            "Enter the desired length of the password: 16\n",
            "Generated Password: ^(0i]GbQN\"VFXW+)\n"
          ]
        }
      ]
    },
    {
      "cell_type": "markdown",
      "source": [
        "# Try these questions"
      ],
      "metadata": {
        "id": "6SmvS7nSfbj8"
      }
    },
    {
      "cell_type": "markdown",
      "source": [
        "(21) Define a base class called 'Vehicle' with attributes make and model. Create a derived class Car that inherits from Vehicle and has an additional attribute 'num_doors'. Demonstrate an example of creating an instance of the 'Car' class and accessing its attributes."
      ],
      "metadata": {
        "id": "cboAr5pEWUf5"
      }
    },
    {
      "cell_type": "code",
      "source": [
        "# write your answer here\n"
      ],
      "metadata": {
        "id": "phs9gciMWWAW"
      },
      "execution_count": null,
      "outputs": []
    },
    {
      "cell_type": "markdown",
      "source": [
        "(22) Create a class called 'Shape' with a method calculate_area(). Implement two derived classes 'Circle' and 'Rectangle' that inherit from Shape and override the calculate_area() method. Demonstrate polymorphism by creating instances of both derived classes and calling the calculate_area() method."
      ],
      "metadata": {
        "id": "J8HHefNtePwd"
      }
    },
    {
      "cell_type": "code",
      "source": [
        "# write your answer here"
      ],
      "metadata": {
        "id": "btnMmUZDeRhS"
      },
      "execution_count": null,
      "outputs": []
    },
    {
      "cell_type": "markdown",
      "source": [
        "(23) Write a Python program that prompts the user to enter two numbers and perform a division operation. Handle exceptions for both zero division and invalid input (non-numeric input). Display appropriate error messages for each type of exception and ensure the program does not crash due to these errors."
      ],
      "metadata": {
        "id": "z0oqEAlTeMUS"
      }
    },
    {
      "cell_type": "code",
      "source": [
        "# write your answer here"
      ],
      "metadata": {
        "id": "yjdc1zM1eMAs"
      },
      "execution_count": null,
      "outputs": []
    },
    {
      "cell_type": "markdown",
      "source": [
        "# Mandatory Question"
      ],
      "metadata": {
        "id": "sZOhks1dXWEe"
      }
    },
    {
      "cell_type": "markdown",
      "source": [
        "**Important:**\n",
        "Reflecting on the first three lectures and the exercises you've completed, please provide feedback on your learning experience. Share your thoughts on whether the material covered was clear, the exercises were helpful, and if you feel more confident in applying Python programming concepts. Additionally, mention any specific areas where you would like more clarification or topics you would like to explore further in future lectures. Your feedback is valuable in shaping the course for an effective learning journey."
      ],
      "metadata": {
        "id": "eqmHVEwaWhbV"
      }
    },
    {
      "cell_type": "code",
      "source": [
        " I found the material to be generally clear and well-structured. The lectures provided a solid foundation in Python programming concepts, and the step-by-step approach made it easier to follow along. The exercises were particularly helpful in reinforcing the concepts learned, as they offered practical experience and encouraged problem-solving.\n",
        "\n",
        "I feel more confident in applying Python programming, especially with basics like loops, conditionals, and functions. However, I would appreciate more clarification on some advanced topics, like error handling and working with modules and libraries."
      ],
      "metadata": {
        "id": "akAVJn9YBTQT"
      },
      "execution_count": null,
      "outputs": []
    }
  ],
  "metadata": {
    "colab": {
      "provenance": [],
      "include_colab_link": true
    },
    "kernelspec": {
      "display_name": "Python 3 (ipykernel)",
      "language": "python",
      "name": "python3"
    },
    "language_info": {
      "codemirror_mode": {
        "name": "ipython",
        "version": 3
      },
      "file_extension": ".py",
      "mimetype": "text/x-python",
      "name": "python",
      "nbconvert_exporter": "python",
      "pygments_lexer": "ipython3",
      "version": "3.9.12"
    }
  },
  "nbformat": 4,
  "nbformat_minor": 0
}